{
 "cells": [
  {
   "cell_type": "markdown",
   "metadata": {},
   "source": [
    "# Project Description"
   ]
  },
  {
   "cell_type": "markdown",
   "metadata": {},
   "source": [
    "This is an interactive NBA team building program that builds teams from the 2020 NBA Season. The information is collected from *Basketball-Reference.com*. \n",
    "\n",
    "If you wanted to create your very own NBA team based on specific stats and positions, this is your chance! This program filters through various NBA player's stats and positions to cultivate your desired team.\n",
    "\n",
    "The program asks for input like desired stat, a distributed spread of players positions, and teamname, and with that information outputs:\n",
    "- Your own team with players\n",
    "- A simulated game with an NBA team of your choosing"
   ]
  },
  {
   "cell_type": "markdown",
   "metadata": {},
   "source": [
    "## Areas for Improvement\n",
    "\n",
    "- Instead of being limited to the 2020 NBA season and one csv file, I would learn how to scrape data from the web so that a user could use ANY NBA season to create their team.\n",
    "- I would find a method/algorithm to incorporate multiple stats to create a Superteam, instead of just using one statline as the metric.\n",
    "- I couldn't figure out how to close a TKinter window after the submission button was clicked, so figuring that out would help make the code smoother and more user-friendly.\n",
    "    - `tk.TK().destroy()` did not work for me for some reason.\n",
    "- I could've made each TKinter window a class for better organization instead of cramming it all into the build_team( ) function.\n",
    "- After realizing TKinter GUI interfaces don't work on web-based servers like Jupyter, I had to (crudely) modify my code to account for not having TKinter. **If you would like to see the actual finished project with TKinter, please run `build_team()` on local terminal.**"
   ]
  },
  {
   "cell_type": "markdown",
   "metadata": {},
   "source": [
    "## Setup"
   ]
  },
  {
   "cell_type": "code",
   "execution_count": 7,
   "metadata": {
    "scrolled": true
   },
   "outputs": [],
   "source": [
    "from my_module.functions import *"
   ]
  },
  {
   "cell_type": "markdown",
   "metadata": {},
   "source": [
    "## Code Testing"
   ]
  },
  {
   "cell_type": "code",
   "execution_count": 8,
   "metadata": {
    "scrolled": true
   },
   "outputs": [
    {
     "name": "stdout",
     "output_type": "stream",
     "text": [
      "\u001b[1m============================= test session starts ==============================\u001b[0m\n",
      "platform linux -- Python 3.7.6, pytest-6.1.2, py-1.9.0, pluggy-0.13.1\n",
      "rootdir: /home/eeguchi/NBA_Superteam_Builder\n",
      "collected 6 items                                                              \u001b[0m\n",
      "\n",
      "my_module/test_functions.py \u001b[32m.\u001b[0m\u001b[32m.\u001b[0m\u001b[32m.\u001b[0m\u001b[32m.\u001b[0m\u001b[32m.\u001b[0m\u001b[32m.\u001b[0m\u001b[32m                                       [100%]\u001b[0m\n",
      "\n",
      "\u001b[32m============================== \u001b[32m\u001b[1m6 passed\u001b[0m\u001b[32m in 0.49s\u001b[0m\u001b[32m ===============================\u001b[0m\n"
     ]
    }
   ],
   "source": [
    "!pytest ./my_module/test_functions.py"
   ]
  },
  {
   "cell_type": "markdown",
   "metadata": {},
   "source": [
    "## NBA Superteam Builder"
   ]
  },
  {
   "cell_type": "markdown",
   "metadata": {},
   "source": [
    "To get the full capability of the NBA Superteam Builder program, run `build_team()` in your local terminal. For Jupyter purposes, we will run `build_team_jupyter` which gets rid of the TKinter GUI interface."
   ]
  },
  {
   "cell_type": "code",
   "execution_count": null,
   "metadata": {},
   "outputs": [],
   "source": [
    "build_team()"
   ]
  },
  {
   "cell_type": "code",
   "execution_count": 10,
   "metadata": {
    "scrolled": true
   },
   "outputs": [
    {
     "name": "stdout",
     "output_type": "stream",
     "text": [
      "Hello GM!\n",
      "Let's make your very own NBA Superteam!\n",
      "To begin, choose what stat you want to focus on, and if you want 5 different positions (balanced team) or not.\n",
      "If desired, type in the teamname you want as well :)\n",
      "Please type either \"Balanced\" or \"Unbalanced\".Balanced\n",
      "Please type either \"Points\", \"Assists\", \"Rebounds\", \"Steals\", or \"Blocks\".Rebounds\n",
      "Type in desired teamname. If you don't want one, press enterTune Squad\n",
      "\n",
      "Great! You are responsible for the team: Tune Squad.\n",
      "The players that had the best Rebounds and who are on your team are: ['Andre Drummond', 'Giannis Antetokounmpo', 'Luka Dončić', 'Kawhi Leonard', 'James Harden']\n",
      "Press Enter to continue.\n",
      "\n",
      "Let's see how Tune Squad would do against an NBA team.\n",
      "Choose which team you would like to play against. Please type out the team exactly how it is printed below.\n",
      "Press Enter to see NBA teams.\n",
      "\n",
      "Atlanta Hawks\n",
      "Boston Celtics\n",
      "Brooklyn Nets\n",
      "Charlotte Hornets\n",
      "Chicago Bulls\n",
      "Cleveland Cavaliers\n",
      "Dallas Mavericks\n",
      "Denver Nuggets\n",
      "Detroit Pistons\n",
      "Golden State Warriors\n",
      "Houston Rockets\n",
      "Indiana Pacers\n",
      "Los Angeles Clippers\n",
      "Los Angeles Lakers\n",
      "Memphis Grizzlies\n",
      "Miami Heat\n",
      "Milwaukee Bucks\n",
      "Minnesota Timberwolves\n",
      "New Orleans Pelicans\n",
      "New York Knicks\n",
      "Oklahoma City Thunder\n",
      "Orlando Magic\n",
      "Philadelphia 76ers\n",
      "Phoenix Suns\n",
      "Portland Trail Blazers\n",
      "Sacramento Kings\n",
      "San Antonio Spurs\n",
      "Toronto Raptors\n",
      "Utah Jazz\n",
      "Washington Wizards\n",
      "Type in desired team to continue.Los Angeles Lakers\n",
      "\n",
      "The Los Angeles Lakers's players with the best Rebounds are: ['Anthony Davis', 'LeBron James', 'Dwight Howard', 'JaVale McGee', 'Kyle Kuzma']\n",
      "Press Enter to simulate a game with LAL.\n",
      "\n",
      "With a final score of 117 to 73, Tune Squad beat LAL by 44 points.\n",
      "Also, Tune Squad had 55 Rebounds and LAL had 36 Rebounds.\n",
      "Press Enter to continue\n",
      "\n",
      "Congratulations, you finished creating your team! Try starting over and creating another team if you want!\n"
     ]
    }
   ],
   "source": [
    "build_team_jupyter()"
   ]
  },
  {
   "cell_type": "markdown",
   "metadata": {},
   "source": [
    "#### Extra Credit (*optional*)\n",
    "\n",
    "1. I had experience in Python through DSC10, 20 and COGS 9. It has been a year since I've taken these courses so learning Python again was a nice refresher. I utilized Spyder to create my project, and that was my first experience utilizing that platform.\n",
    "2. I tried to challange myself by making something from scratch in an area of focus that interested me. Looking at my code, I understand that there is a lot that can be cleaned up and built off of, but so far I am satisfied with the progress made. I also learned how to use the TKinter module to create GUI interfaces that would make interacting with the program a better experience."
   ]
  },
  {
   "cell_type": "code",
   "execution_count": null,
   "metadata": {},
   "outputs": [],
   "source": []
  }
 ],
 "metadata": {
  "kernelspec": {
   "display_name": "Python 3",
   "language": "python",
   "name": "python3"
  },
  "language_info": {
   "codemirror_mode": {
    "name": "ipython",
    "version": 3
   },
   "file_extension": ".py",
   "mimetype": "text/x-python",
   "name": "python",
   "nbconvert_exporter": "python",
   "pygments_lexer": "ipython3",
   "version": "3.7.6"
  }
 },
 "nbformat": 4,
 "nbformat_minor": 2
}
